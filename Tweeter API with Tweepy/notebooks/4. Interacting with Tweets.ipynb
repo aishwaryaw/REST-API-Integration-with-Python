{
 "cells": [
  {
   "cell_type": "code",
   "execution_count": null,
   "metadata": {
    "scrolled": true
   },
   "outputs": [],
   "source": [
    "import time\n",
    "import webbrowser\n",
    "import tweepy"
   ]
  },
  {
   "cell_type": "code",
   "execution_count": null,
   "metadata": {},
   "outputs": [],
   "source": [
    "callback_uri = \"oob\""
   ]
  },
  {
   "cell_type": "code",
   "execution_count": null,
   "metadata": {},
   "outputs": [],
   "source": [
    "auth = tweepy.OAuthHandler(consumer_key, consumer_secret, callback_uri)\n",
    "redirect_url = auth.get_authorization_url()\n",
    "webbrowser.open(redirect_url)"
   ]
  },
  {
   "cell_type": "code",
   "execution_count": null,
   "metadata": {},
   "outputs": [],
   "source": [
    "user_pin_input = input('whats pin value ?')\n",
    "auth.get_access_token(user_pin_value)\n",
    "print(auth.access_token, auth.access_token_secret)"
   ]
  },
  {
   "cell_type": "code",
   "execution_count": null,
   "metadata": {},
   "outputs": [],
   "source": [
    "api = tweepy.API(auth)\n",
    "dir(api)"
   ]
  },
  {
   "cell_type": "code",
   "execution_count": null,
   "metadata": {},
   "outputs": [],
   "source": [
    "me = api.me()\n",
    "print(me.screen_name) # screen_name = username"
   ]
  },
  {
   "cell_type": "code",
   "execution_count": null,
   "metadata": {},
   "outputs": [],
   "source": [
    "my_timline = api.home_timeline()\n",
    "my_status_obj = my_timline[0]\n",
    "my_status_obj_id = my_status_obj.id\n",
    "status_obj_screen_name = my_status_obj_id.user.screen_name\n",
    "status_url = f\"https://twitter.com/{status_obj_screen_name}/status/{my_status_obj_id}\" # twitter status url"
   ]
  },
  {
   "cell_type": "code",
   "execution_count": null,
   "metadata": {},
   "outputs": [],
   "source": [
    "status_obj = api.get_status(my_status_obj_id)\n",
    "status_obj.text"
   ]
  },
  {
   "cell_type": "code",
   "execution_count": null,
   "metadata": {},
   "outputs": [],
   "source": [
    "status_obj.create_favorite() # like\n",
    "status_obj.destroy_favrite() #unline\n",
    "api.retweet(status_obj.id) or api.retweet(my_status_obj_id) # retweeting"
   ]
  },
  {
   "cell_type": "code",
   "execution_count": null,
   "metadata": {},
   "outputs": [],
   "source": [
    "# giving reply status to any exisitng status\n",
    "og_tweet = api.get_status(\"1257339085414371333\")\n",
    "username = og_tweet.user.screen_name\n",
    "api.update_status(f\"@{username} wow!\",og_tweet.id )"
   ]
  }
 ],
 "metadata": {
  "kernelspec": {
   "display_name": "Python 3",
   "language": "python",
   "name": "python3"
  },
  "language_info": {
   "codemirror_mode": {
    "name": "ipython",
    "version": 3
   },
   "file_extension": ".py",
   "mimetype": "text/x-python",
   "name": "python",
   "nbconvert_exporter": "python",
   "pygments_lexer": "ipython3",
   "version": "3.8.3rc1"
  }
 },
 "nbformat": 4,
 "nbformat_minor": 4
}
