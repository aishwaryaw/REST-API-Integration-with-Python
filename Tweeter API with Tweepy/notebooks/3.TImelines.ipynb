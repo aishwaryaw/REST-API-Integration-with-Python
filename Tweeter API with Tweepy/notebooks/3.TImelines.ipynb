{
 "cells": [
  {
   "cell_type": "code",
   "execution_count": null,
   "metadata": {
    "scrolled": true
   },
   "outputs": [],
   "source": [
    "import time\n",
    "import webbrowser\n",
    "import tweepy\n",
    "import pandas as pd"
   ]
  },
  {
   "cell_type": "code",
   "execution_count": null,
   "metadata": {},
   "outputs": [],
   "source": [
    "callback_uri = \"oob\""
   ]
  },
  {
   "cell_type": "code",
   "execution_count": null,
   "metadata": {},
   "outputs": [],
   "source": [
    "auth = tweepy.OAuthHandler(consumer_key, consumer_secret, callback_uri)\n",
    "redirect_url = auth.get_authorization_url()\n",
    "webbrowser.open(redirect_url)"
   ]
  },
  {
   "cell_type": "code",
   "execution_count": null,
   "metadata": {},
   "outputs": [],
   "source": [
    "user_pin_input = input('whats pin value ?')\n",
    "auth.get_access_token(user_pin_value)\n",
    "print(auth.access_token, auth.access_token_secret)"
   ]
  },
  {
   "cell_type": "code",
   "execution_count": null,
   "metadata": {},
   "outputs": [],
   "source": [
    "api = tweepy.API(auth)\n",
    "dir(api)"
   ]
  },
  {
   "cell_type": "code",
   "execution_count": null,
   "metadata": {},
   "outputs": [],
   "source": [
    "me = api.me()\n",
    "print(me.screen_name) # screen_name = username"
   ]
  },
  {
   "cell_type": "code",
   "execution_count": null,
   "metadata": {},
   "outputs": [],
   "source": [
    "my_timline = api.home_timeline()\n",
    "allowed_types = [str, int]\n",
    "columns = set()\n",
    "for status in my_timeline:\n",
    "    status_dict = dict(vars(status)) # converts status into dictionary\n",
    "    keys = status_dict.keys()\n",
    "    single_tweet_data = {\"user\": status.user.screen_name, \"author\": status.author.screen_name}\n",
    "    for k in keys:\n",
    "        try:\n",
    "            v_type = type(status_dict[k])\n",
    "        except:\n",
    "            v_type= None\n",
    "        if v_type in allowed_types:\n",
    "            single_tweet_data[k] = status_dict[k]\n",
    "            columns.add(k)\n",
    "    tweet_data.append(single_tweet_data)\n",
    "\n",
    "header_cols = list(columns)\n",
    "header_cols.append(\"user\")\n",
    "header_cols.append(\"author\")"
   ]
  },
  {
   "cell_type": "code",
   "execution_count": null,
   "metadata": {},
   "outputs": [],
   "source": [
    "df = pd.DataFrame(tweet_data , columns=header_cols)\n",
    "df.head()"
   ]
  },
  {
   "cell_type": "code",
   "execution_count": null,
   "metadata": {},
   "outputs": [],
   "source": [
    "def timeline_to_df(timeline):\n",
    "    \n",
    "    allowed_types = [str, int]\n",
    "    columns = set()\n",
    "    for status in timeline:\n",
    "        status_dict = dict(vars(status)) # converts status into dictionary\n",
    "        keys = status_dict.keys()\n",
    "        single_tweet_data = {\"user\": status.user.screen_name, \"author\": status.author.screen_name}\n",
    "        for k in keys:\n",
    "            try:\n",
    "                v_type = type(status_dict[k])\n",
    "            except:\n",
    "                v_type= None\n",
    "            if v_type in allowed_types:\n",
    "                single_tweet_data[k] = status_dict[k]\n",
    "                columns.add(k)\n",
    "        tweet_data.append(single_tweet_data)\n",
    "\n",
    "    header_cols = list(columns)\n",
    "    header_cols.append(\"user\")\n",
    "    header_cols.append(\"author\")\n",
    "    df = pd.DataFrame(tweet_data , columns=header_cols)\n",
    "    return df\n",
    "\n",
    "\n",
    "# my timeline\n",
    "my_timeline = api.home_timeline()\n",
    "my_df = timeline_to_df(my_timeline)\n",
    "my_df.head()\n",
    "\n",
    "# other user's timeline\n",
    "user = api.get_user(\"code\")\n",
    "user_timeline = api.timeline(user)\n",
    "user_df = timeline_to_df(user_timeline)\n",
    "user_df.head()\n",
    "    "
   ]
  }
 ],
 "metadata": {
  "kernelspec": {
   "display_name": "Python 3",
   "language": "python",
   "name": "python3"
  },
  "language_info": {
   "codemirror_mode": {
    "name": "ipython",
    "version": 3
   },
   "file_extension": ".py",
   "mimetype": "text/x-python",
   "name": "python",
   "nbconvert_exporter": "python",
   "pygments_lexer": "ipython3",
   "version": "3.8.3rc1"
  }
 },
 "nbformat": 4,
 "nbformat_minor": 4
}
