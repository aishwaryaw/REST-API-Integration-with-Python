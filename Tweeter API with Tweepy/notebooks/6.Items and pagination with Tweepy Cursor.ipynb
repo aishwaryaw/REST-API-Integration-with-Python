{
 "cells": [
  {
   "cell_type": "code",
   "execution_count": null,
   "metadata": {
    "scrolled": true
   },
   "outputs": [],
   "source": [
    "import time\n",
    "import webbrowser\n",
    "import tweepy"
   ]
  },
  {
   "cell_type": "code",
   "execution_count": null,
   "metadata": {},
   "outputs": [],
   "source": [
    "callback_uri = \"oob\""
   ]
  },
  {
   "cell_type": "code",
   "execution_count": null,
   "metadata": {},
   "outputs": [],
   "source": [
    "auth = tweepy.OAuthHandler(consumer_key, consumer_secret, callback_uri)\n",
    "redirect_url = auth.get_authorization_url()\n",
    "webbrowser.open(redirect_url)"
   ]
  },
  {
   "cell_type": "code",
   "execution_count": null,
   "metadata": {},
   "outputs": [],
   "source": [
    "user_pin_input = input('whats pin value ?')\n",
    "auth.get_access_token(user_pin_value)\n",
    "print(auth.access_token, auth.access_token_secret)"
   ]
  },
  {
   "cell_type": "code",
   "execution_count": null,
   "metadata": {},
   "outputs": [],
   "source": [
    "api = tweepy.API(auth, wait_on_rate_limit=True) # wait_on_rate_limit is used to not overload the tweeter server with too many requests.\n",
    "dir(api)"
   ]
  },
  {
   "cell_type": "code",
   "execution_count": null,
   "metadata": {},
   "outputs": [],
   "source": [
    "me = api.me()\n",
    "print(me.screen_name) # screen_name = username"
   ]
  },
  {
   "cell_type": "code",
   "execution_count": null,
   "metadata": {},
   "outputs": [],
   "source": [
    "# cursor is used to get all possible items from the list which is not possible in usual ways , in usual way we get only min number of items back.\n",
    "for i, status in enumerate(tweepy.Cursor(api.home_timline, count = 50).items(50)):\n",
    "    print(i, status.text)\n",
    "    \n",
    "for i, status in enumerate(tweepy.Cursor(api.user_timeline, screen_name=\"tweeter\")):\n",
    "     print(i, status.text)"
   ]
  },
  {
   "cell_type": "code",
   "execution_count": null,
   "metadata": {},
   "outputs": [],
   "source": [
    "user = api.get_user(\"code\")\n",
    "friends = []\n",
    "for i, friend_id in enumerate(tweepy.Cursor(user.friends_ids, count=100).items(100)):\n",
    "    print(i, frined_id)\n",
    "    friends.append(friend_id)"
   ]
  },
  {
   "cell_type": "code",
   "execution_count": null,
   "metadata": {},
   "outputs": [],
   "source": [
    "query = \"django - discount -jquery -@udemy_es\" #- is used to ignore those keywords while searching to narrow down the search\n",
    "for i,status in enumerate(tweepy.Cursor(api.search, q=query).items(50)):\n",
    "    print(i, status.text , status.author.screen_name)"
   ]
  },
  {
   "cell_type": "code",
   "execution_count": null,
   "metadata": {},
   "outputs": [],
   "source": [
    "query_username = \"django\"\n",
    "users = set()\n",
    "for i,user in enumerate(tweepy.Cursor(api.search_username, q=query_username).items(50)):\n",
    "    print(i, user.screen_name)\n",
    "    users.add(user.screen_name)\n",
    "\n",
    "print(list(users))"
   ]
  },
  {
   "cell_type": "code",
   "execution_count": null,
   "metadata": {},
   "outputs": [],
   "source": [
    "# pagination\n",
    "query_username = \"code\"\n",
    "def process_page(page_results):\n",
    "    fori, user in enumerate(page_results):\n",
    "        print(i, user.screen_name)\n",
    "    \n",
    "for i,page in enumerate(tweepy.Cursor(api.search_username, q=query_username, per_page = 10).pages(3)):\n",
    "    print(i, \"page\")\n",
    "    process_page(page)"
   ]
  },
  {
   "cell_type": "code",
   "execution_count": null,
   "metadata": {},
   "outputs": [],
   "source": [
    "# handling rate limit in following way\n",
    "def limit_handled(Cursor):\n",
    "    while True:\n",
    "        try:\n",
    "            yield Cursor.next()\n",
    "        except tweepy.RateLimitError:\n",
    "            # send mail / log / webhook\n",
    "            time.sleep(15*60)  # 60 mins of sleep if rate limit occurrs\n",
    "    \n",
    "for i, follower in enumerate(limit_handled(tweepy.Cursor(api.followers).items()):\n",
    "    print(follower.screen_name)"
   ]
  }
 ],
 "metadata": {
  "kernelspec": {
   "display_name": "Python 3",
   "language": "python",
   "name": "python3"
  },
  "language_info": {
   "codemirror_mode": {
    "name": "ipython",
    "version": 3
   },
   "file_extension": ".py",
   "mimetype": "text/x-python",
   "name": "python",
   "nbconvert_exporter": "python",
   "pygments_lexer": "ipython3",
   "version": "3.8.3rc1"
  }
 },
 "nbformat": 4,
 "nbformat_minor": 4
}
