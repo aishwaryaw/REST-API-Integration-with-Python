{
 "cells": [
  {
   "cell_type": "code",
   "execution_count": 3,
   "metadata": {
    "scrolled": true
   },
   "outputs": [
    {
     "name": "stderr",
     "output_type": "stream",
     "text": [
      "[NbConvertApp] WARNING | pattern '#' matched no files\n",
      "[NbConvertApp] WARNING | pattern 'jupyter' matched no files\n",
      "[NbConvertApp] WARNING | pattern 'nbconvert' matched no files\n",
      "[NbConvertApp] WARNING | pattern 'to--python' matched no files\n",
      "[NbConvertApp] WARNING | pattern 'file_name' matched no files\n",
      "[NbConvertApp] WARNING | pattern '(!' matched no files\n",
      "[NbConvertApp] WARNING | pattern 'is' matched no files\n",
      "[NbConvertApp] WARNING | pattern 'used' matched no files\n",
      "[NbConvertApp] WARNING | pattern 'to' matched no files\n",
      "[NbConvertApp] WARNING | pattern 'execute' matched no files\n",
      "[NbConvertApp] WARNING | pattern 'a' matched no files\n",
      "[NbConvertApp] WARNING | pattern 'command)' matched no files\n",
      "[NbConvertApp] Converting notebook spotify_client.ipynb to python\n",
      "[NbConvertApp] Writing 4485 bytes to ../client\\spotify_client.py\n"
     ]
    }
   ],
   "source": [
    "!jupyter nbconvert --output-dir=\"../client\" --to python spotify_client.ipynb # jupyter nbconvert to--python file_name (! is used to execute a command)"
   ]
  },
  {
   "cell_type": "code",
   "execution_count": null,
   "metadata": {},
   "outputs": [],
   "source": []
  }
 ],
 "metadata": {
  "kernelspec": {
   "display_name": "Python 3",
   "language": "python",
   "name": "python3"
  },
  "language_info": {
   "codemirror_mode": {
    "name": "ipython",
    "version": 3
   },
   "file_extension": ".py",
   "mimetype": "text/x-python",
   "name": "python",
   "nbconvert_exporter": "python",
   "pygments_lexer": "ipython3",
   "version": "3.8.3rc1"
  }
 },
 "nbformat": 4,
 "nbformat_minor": 4
}
