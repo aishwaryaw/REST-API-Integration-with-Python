{
 "cells": [
  {
   "cell_type": "code",
   "execution_count": 6,
   "metadata": {},
   "outputs": [],
   "source": [
    "import requests\n",
    "import base64 \n",
    "import datetime"
   ]
  },
  {
   "cell_type": "code",
   "execution_count": 4,
   "metadata": {},
   "outputs": [],
   "source": [
    "client_id = 'client id'\n",
    "client_secret = 'client secret'"
   ]
  },
  {
   "cell_type": "code",
   "execution_count": 20,
   "metadata": {},
   "outputs": [],
   "source": [
    "class SpotifyAPI():\n",
    "    client_id = None\n",
    "    client_secret = None\n",
    "    access_token = None\n",
    "    access_token_expires_in = datetime.datetime.now()\n",
    "    access_token_did_expire = False\n",
    "    token_url = \"https://accounts.spotify.com/api/token\"\n",
    "\n",
    "    def __init__(self, client_id , client_secret):\n",
    "        self.client_id = client_id\n",
    "        self.client_secret = client_secret\n",
    "    \n",
    "    def get_client_credentials(self):\n",
    "        client_id = self.client_id\n",
    "        client_secret = self.client_secret\n",
    "        if client_id == None or client_secret == None:\n",
    "            raise Exception(\"You must set client id and client secret\")\n",
    "        client_creds = f\"{self.client_id}:{self.client_secret}\"\n",
    "        client_creds_base64 = base64.b64encode(client_creds.encode())\n",
    "        return client_creds_base64\n",
    "    \n",
    "    def get_token_header(self):\n",
    "        client_creds_base64 = self.get_client_credentials()\n",
    "        token_header = {\n",
    "        \"Authorization\": f\"Basic {client_creds_base64.decode()}\"  # <base64 encoded client_id:client_secret>\n",
    "        }\n",
    "        return token_header\n",
    "          \n",
    "    def get_token_data(self):\n",
    "        return {\n",
    "                \"grant_type\":\"client_credentials\"\n",
    "                }\n",
    "\n",
    "    def perform_auth(self):\n",
    "        token_data = self.get_token_data()\n",
    "        token_header = self.get_token_header()\n",
    "        r = requests.post(self.token_url, data = token_data, headers =token_header)\n",
    "        if r.status_code not in range(200,299):\n",
    "#             print(r.status_code)\n",
    "            return False\n",
    "        \n",
    "        data = r.json()\n",
    "        access_token = data['access_token']\n",
    "        expires_in = data['expires_in']\n",
    "        now = datetime.datetime.now()\n",
    "        expires = now + datetime.timedelta(seconds = expires_in) # to get the time of expiration \n",
    "        self.access_token = access_token\n",
    "        self.access_token_expires_in = expires\n",
    "        self.access_token_did_expire = expires < now # token expired = if time of expiration is less than current time \n",
    "        return True\n",
    "        \n",
    "        "
   ]
  },
  {
   "cell_type": "code",
   "execution_count": 21,
   "metadata": {
    "scrolled": true
   },
   "outputs": [
    {
     "data": {
      "text/plain": [
       "True"
      ]
     },
     "execution_count": 21,
     "metadata": {},
     "output_type": "execute_result"
    }
   ],
   "source": [
    "spotify = SpotifyAPI(client_id , client_secret)\n",
    "spotify.perform_auth()"
   ]
  },
  {
   "cell_type": "code",
   "execution_count": 22,
   "metadata": {},
   "outputs": [
    {
     "data": {
      "text/plain": [
       "'access token'"
      ]
     },
     "execution_count": 22,
     "metadata": {},
     "output_type": "execute_result"
    }
   ],
   "source": [
    "spotify.access_token"
   ]
  },
  {
   "cell_type": "code",
   "execution_count": 23,
   "metadata": {
    "scrolled": true
   },
   "outputs": [
    {
     "data": {
      "text/plain": [
       "False"
      ]
     },
     "execution_count": 23,
     "metadata": {},
     "output_type": "execute_result"
    }
   ],
   "source": [
    "spotify.access_token_did_expire"
   ]
  },
  {
   "cell_type": "code",
   "execution_count": 24,
   "metadata": {},
   "outputs": [
    {
     "data": {
      "text/plain": [
       "datetime.datetime(2020, 6, 12, 3, 19, 46, 861421)"
      ]
     },
     "execution_count": 24,
     "metadata": {},
     "output_type": "execute_result"
    }
   ],
   "source": [
    "spotify.access_token_expires_in"
   ]
  },
  {
   "cell_type": "code",
   "execution_count": null,
   "metadata": {},
   "outputs": [],
   "source": []
  }
 ],
 "metadata": {
  "kernelspec": {
   "display_name": "Python 3",
   "language": "python",
   "name": "python3"
  },
  "language_info": {
   "codemirror_mode": {
    "name": "ipython",
    "version": 3
   },
   "file_extension": ".py",
   "mimetype": "text/x-python",
   "name": "python",
   "nbconvert_exporter": "python",
   "pygments_lexer": "ipython3",
   "version": "3.8.3rc1"
  }
 },
 "nbformat": 4,
 "nbformat_minor": 4
}
