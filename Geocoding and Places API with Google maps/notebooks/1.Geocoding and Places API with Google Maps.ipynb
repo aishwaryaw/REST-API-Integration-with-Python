{
 "cells": [
  {
   "cell_type": "code",
   "execution_count": 1,
   "metadata": {},
   "outputs": [],
   "source": [
    "import requests\n",
    "import pandas as pd\n",
    "from urllib.parse import urlencode, urlparse , parse_qsl"
   ]
  },
  {
   "cell_type": "code",
   "execution_count": 3,
   "metadata": {},
   "outputs": [],
   "source": [
    "api_key = \"api-key\""
   ]
  },
  {
   "cell_type": "code",
   "execution_count": 13,
   "metadata": {},
   "outputs": [
    {
     "name": "stdout",
     "output_type": "stream",
     "text": [
      "https://maps.googleapis.com/maps/api/geocode/json?address=1600+Amphitheatre+Parkway%2C+Mountain+View%2C+CA&key=api-key\n",
      "None None\n"
     ]
    }
   ],
   "source": [
    "def extract_lat_and_lng(address, data_type='json' ):\n",
    "    params = {\"address\": address, \"key\" : api_key}\n",
    "    endpoint = f\"https://maps.googleapis.com/maps/api/geocode/{data_type}\"\n",
    "    params_encode = urlencode(params)\n",
    "    final_endpoint = f\"{endpoint}?{params_encode}\"\n",
    "    print(final_endpoint)\n",
    "    r = requests.get(final_endpoint)\n",
    "    if r.status_code not in (200,299):\n",
    "        raise Exception(\"Error !!\")\n",
    "    data = r.json()\n",
    "    latlng= {}\n",
    "   \n",
    "    \n",
    "    try:\n",
    "        latlng = data['results'][0]['location']\n",
    "    except:\n",
    "        pass\n",
    "    \n",
    "    lat,lng = latlng.get('lat'), latlng.get('lng')\n",
    "    \n",
    "    return lat,lng\n",
    "\n",
    "\n",
    "lat,lng = extract_lat_and_lng(\"1600 Amphitheatre Parkway, Mountain View, CA\")\n",
    "print(lat, lng)\n",
    "    "
   ]
  },
  {
   "cell_type": "code",
   "execution_count": 15,
   "metadata": {},
   "outputs": [
    {
     "name": "stdout",
     "output_type": "stream",
     "text": [
      "[('address', '1600 Amphitheatre Parkway, Mountain View, CA'), ('key', 'api-key')]\n",
      "{'address': '1600 Amphitheatre Parkway, Mountain View, CA', 'key': 'api-key'}\n",
      "https://maps.googleapis.com/maps/api/geocode/json?address=1600+Amphitheatre+Parkway%2C+Mountain+View%2C+CA&key=api-key\n"
     ]
    }
   ],
   "source": [
    "url = \"https://maps.googleapis.com/maps/api/geocode/json?address=1600+Amphitheatre+Parkway%2C+Mountain+View%2C+CA&key=api-key\"\n",
    "parsed_url = urlparse(parse_url)\n",
    "# ParseResult(scheme='https', netloc='maps.googleapis.com', path='/maps/api/geocode/json', params='', query='address=1600+Amphitheatre+Parkway%2C+Mountain+View%2C+CA&key=api-key', fragment='')\n",
    "query_string = parsed_url.query \n",
    "# address=1600+Amphitheatre+Parkway%2C+Mountain+View%2C+CA&key=api-key'\n",
    "print(parse_qsl(query_string))\n",
    "# [('address', '1600 Amphitheatre Parkway, Mountain View, CA'), ('key', 'api-key')]\n",
    "parsed_query_string = parse_qsl(query_string)\n",
    "dict_qs = dict(parsed_query_string)\n",
    "print(dict_qs)\n",
    "\n",
    "\n",
    "first_url = f\"{parsed_url.scheme}://{parsed_url.netloc}{parsed_url.path}?{parsed_url.query}\"\n",
    "print(first_url)"
   ]
  },
  {
   "cell_type": "code",
   "execution_count": 12,
   "metadata": {
    "scrolled": true
   },
   "outputs": [],
   "source": [
    "# product = {}\n",
    "# print(product.get('name')) -- None \n",
    "# print((product['name']))-- will give error"
   ]
  },
  {
   "cell_type": "code",
   "execution_count": null,
   "metadata": {},
   "outputs": [],
   "source": [
    "# https://maps.googleapis.com/maps/api/place/findplacefromtext/output?parameters\n",
    "# https://maps.googleapis.com/maps/api/place/findplacefromtext/json?input=Museum%20of%20Contemporary%20Art%20Australia&inputtype=textquery&fields=photos,formatted_address,name,rating,opening_hours,geometry&key=YOUR_API_KEY\n",
    "    \n",
    "def search_places1():\n",
    "    endpoint = f\"https://maps.googleapis.com/maps/api/place/findplacefromtext/{data_type}\"\n",
    "    params = {\n",
    "        \"key\":api_key,\n",
    "        \"input\":\"Mexian food\"\n",
    "        \"inputtype\":\"textquery\",\n",
    "        \"fields\":\"place_id, formatted_address,geometry\"\n",
    "    }\n",
    "\n",
    "    locationbias = f\"point:{lat}{lng}\"\n",
    "    if use_circular:\n",
    "        radius = 5000\n",
    "        locationbias = f\"{circle}:{radius}@{lat}{lng}\"\n",
    "            \n",
    "    params['locationbias'] = locationbias\n",
    "    \n",
    "    params_encode = urlencode(params)\n",
    "    final_places_endpoint = f\"{endpoint}?{params_encode}\"\n",
    "    r = requests.get(final_endpoint)\n",
    "    if r.status_code not in (200,299):\n",
    "        raise Exception(\"Error !!\")\n",
    "    data = r.json()\n",
    "    \n",
    "\n",
    "# it gives only one place\n",
    "# https://maps.googleapis.com/maps/api/place/nearbysearch/json?location=-33.8670522,151.1957362&radius=1500&type=restaurant&keyword=cruise&key=YOUR_API_KEY\n",
    "def search_places_2(keyword=\"Mexican Food\", radius=5000):\n",
    "    \n",
    "    endoint = f\"https://maps.googleapis.com/maps/api/place/nearbysearch/{data_type}\"\n",
    "    params = {\n",
    "        \"key\":api_key\n",
    "        \"location\": f\"{lat}{lng}\",\n",
    "        \"radius\": 1000,\n",
    "        \"keyword\": keyword\n",
    "    }\n",
    "    params_encode = urlencode(params)\n",
    "    final_places_endpoint = f\"{endpoint}?{params_encode}\"\n",
    "    r = requests.get(final_endpoint)\n",
    "    if r.status_code not in (200,299):\n",
    "        raise Exception(\"Error !!\")\n",
    "    data = r.json()\n",
    "    \n",
    "    \n",
    "# it gives all nearby places satisfying the given keyword with the given radius\n",
    "# https://maps.googleapis.com/maps/api/place/details/output?parameters\n",
    "# https://maps.googleapis.com/maps/api/place/details/json?place_id=ChIJN1t_tDeuEmsRUsoyG83frY4&fields=name,rating,formatted_phone_number&key=YOUR_API_KEY\n",
    "\n",
    "def place_detail(place_id):\n",
    "    \n",
    "    endpoint = f\"https://maps.googleapis.com/maps/api/place/details/{data_type}\"\n",
    "    params = {\n",
    "        \"key\":api_key,\n",
    "        \"place_id\":place_id,\n",
    "        \"fields\": \"name,rating,formatted_phone_number,formatted_address,photo\"\n",
    "    }\n",
    "    \n",
    "    params_encode = urlencode(params)\n",
    "    final_places_endpoint = f\"{endpoint}?{params_encode}\"\n",
    "    r = requests.get(final_endpoint)\n",
    "    if r.status_code not in (200,299):\n",
    "        raise Exception(\"Error !!\")\n",
    "    data = r.json()\n",
    "    photo = self.get_place_photo(photo_ref)\n",
    "    reuturn data\n",
    "\n",
    "    \n",
    "def get_place_photo(photo_ref):\n",
    "#     https://maps.googleapis.com/maps/api/place/photo?maxwidth=400&photoreference=CnRtAAAATLZNl354RwP_9UKbQ_5Psy40texXePv4oAlgP4qNEkdIrkyse7rPXYGd9D_Uj1rVsQdWT4oRz4QrYAJNpFX7rzqqMlZw2h2E2y5IKMUZ7ouD_SlcHxYq1yL4KbKUv3qtWgTK0A6QbGh87GB3sscrHRIQiG2RrmU_jF4tENr9wGS_YxoUSSDrYjWmrNfeEHSGSc3FyhNLlBU&key=YOUR_API_KEY\n",
    "    \n",
    "    endpoint = \"https://maps.googleapis.com/maps/api/place/photo\"\n",
    "    params = {\n",
    "        \"key\": api_key,\n",
    "        \"photoreference\": photo_ref,\n",
    "        \"maxheight\":1000,\n",
    "        \"maxwidth\": 1000\n",
    "    }\n",
    "    \n",
    "    params_encode = urlencode(params)\n",
    "    \n",
    "    final_endpoint = f\"{endpoint}?{params_encode}\"\n",
    "    r = requests.get(final_endpoint)\n",
    "    if r.status_code not in (200,299):\n",
    "        raise Exception(\"Error !!\")\n",
    "    return r.json()"
   ]
  }
 ],
 "metadata": {
  "kernelspec": {
   "display_name": "Python 3",
   "language": "python",
   "name": "python3"
  },
  "language_info": {
   "codemirror_mode": {
    "name": "ipython",
    "version": 3
   },
   "file_extension": ".py",
   "mimetype": "text/x-python",
   "name": "python",
   "nbconvert_exporter": "python",
   "pygments_lexer": "ipython3",
   "version": "3.8.3rc1"
  }
 },
 "nbformat": 4,
 "nbformat_minor": 4
}
